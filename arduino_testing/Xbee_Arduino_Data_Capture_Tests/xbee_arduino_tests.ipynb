{
 "cells": [
  {
   "cell_type": "code",
   "execution_count": 52,
   "id": "80410195",
   "metadata": {},
   "outputs": [],
   "source": [
    "import pandas as pd\n",
    "import numpy as np\n",
    "\n",
    "import matplotlib\n",
    "matplotlib.use('TkAgg')  # or 'QtAgg', etc.\n",
    "\n",
    "import matplotlib.pyplot as plt\n",
    "from mpl_toolkits.mplot3d import Axes3D  # Required for 3D plotting\n"
   ]
  },
  {
   "cell_type": "code",
   "execution_count": 53,
   "id": "daa719d2",
   "metadata": {},
   "outputs": [
    {
     "name": "stdout",
     "output_type": "stream",
     "text": [
      "Data array length = 9123\n"
     ]
    }
   ],
   "source": [
    "# Load tab-delimited file\n",
    "# df = pd.read_csv('moving_in_circles.txt', delimiter='\\t', header=None)\n",
    "df = pd.read_csv('moving_up_and_down.txt', delimiter='\\t', header=None)\n",
    "df.columns = ['timestamp_ms', 'x', 'y', 'z']\n",
    "\n",
    "# Extract as NumPy arrays\n",
    "t = df['timestamp_ms'].to_numpy()\n",
    "x = df['x'].to_numpy()\n",
    "y = df['y'].to_numpy()\n",
    "z = df['z'].to_numpy()\n",
    "\n",
    "print(f'Data array length = {len(t)}')"
   ]
  },
  {
   "cell_type": "code",
   "execution_count": 54,
   "id": "13dc5e1e",
   "metadata": {},
   "outputs": [],
   "source": [
    "# Test plotting of position data\n",
    "plt.figure()\n",
    "plt.plot(t, x, label='x')\n",
    "plt.plot(t,y, label='y')\n",
    "plt.plot(t,z, label='z')\n",
    "plt.xlabel('Time (ms)')\n",
    "plt.ylabel('Position (m)')\n",
    "plt.legend()\n",
    "plt.show()"
   ]
  },
  {
   "cell_type": "code",
   "execution_count": null,
   "id": "39e00dd1",
   "metadata": {},
   "outputs": [
    {
     "ename": "",
     "evalue": "",
     "output_type": "error",
     "traceback": [
      "\u001b[1;31mThe Kernel crashed while executing code in the current cell or a previous cell. \n",
      "\u001b[1;31mPlease review the code in the cell(s) to identify a possible cause of the failure. \n",
      "\u001b[1;31mClick <a href='https://aka.ms/vscodeJupyterKernelCrash'>here</a> for more info. \n",
      "\u001b[1;31mView Jupyter <a href='command:jupyter.viewOutput'>log</a> for further details."
     ]
    }
   ],
   "source": [
    "# Test 3D trajectory plot\n",
    "\n",
    "# Create a 3D figure and axis\n",
    "fig = plt.figure()\n",
    "ax = plt.axes(projection='3d')\n",
    "\n",
    "[t_start_idx, t_end_idx] = [5000,8000]\n",
    "\n",
    "# Plot the trajectory\n",
    "ax.plot(x[t_start_idx:t_end_idx], y[t_start_idx:t_end_idx], z[t_start_idx:t_end_idx], label='Trajectory', color='blue')\n",
    "\n",
    "# Optionally: highlight start and end points\n",
    "ax.scatter(x[t_start_idx], y[t_start_idx], z[t_start_idx], color='green', label='Start', s=50)\n",
    "ax.scatter(x[t_end_idx], y[t_end_idx], z[t_end_idx], color='red', label='End', s=50)\n",
    "\n",
    "# Label axes\n",
    "ax.set_xlabel('X Position')\n",
    "ax.set_ylabel('Y Position')\n",
    "ax.set_zlabel('Z Position')\n",
    "ax.set_title('3D Trajectory')\n",
    "ax.legend()\n",
    "\n",
    "# Show the plot\n",
    "plt.show()\n"
   ]
  }
 ],
 "metadata": {
  "kernelspec": {
   "display_name": "Python 3",
   "language": "python",
   "name": "python3"
  },
  "language_info": {
   "codemirror_mode": {
    "name": "ipython",
    "version": 3
   },
   "file_extension": ".py",
   "mimetype": "text/x-python",
   "name": "python",
   "nbconvert_exporter": "python",
   "pygments_lexer": "ipython3",
   "version": "3.11.9"
  }
 },
 "nbformat": 4,
 "nbformat_minor": 5
}
